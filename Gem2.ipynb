{
 "cells": [
  {
   "cell_type": "code",
   "execution_count": 4,
   "metadata": {},
   "outputs": [
    {
     "name": "stdout",
     "output_type": "stream",
     "text": [
      "往返图（不包含时间）：\n",
      "Empty DataFrame\n",
      "Columns: []\n",
      "Index: []\n"
     ]
    }
   ],
   "source": [
    "import re\n",
    "import pandas as pd\n",
    "\n",
    "def parse_log_file(file_path):\n",
    "    with open(file_path, 'r', encoding='utf-8') as file:\n",
    "        log_data = file.readlines()\n",
    "\n",
    "    messages = []\n",
    "    pattern = re.compile(r\"(Sent|Rcvd)\\s+.*?:\\s+'(S\\d+F\\d+)'\")\n",
    "\n",
    "    for line in log_data:\n",
    "        match = pattern.search(line)\n",
    "        if match:\n",
    "            direction = match.group(1)\n",
    "            message_id = match.group(2)\n",
    "            messages.append({\n",
    "                'Direction': direction,\n",
    "                'MessageID': message_id\n",
    "            })\n",
    "\n",
    "    return messages\n",
    "\n",
    "def display_message_flow(messages):\n",
    "    df = pd.DataFrame(messages)\n",
    "    print(\"往返图（不包含时间）：\")\n",
    "    print(df.to_string(index=False))\n",
    "\n",
    "if __name__ == \"__main__\":\n",
    "    log_file_path = 'pp.log'\n",
    "    messages = parse_log_file(log_file_path)\n",
    "    display_message_flow(messages)\n"
   ]
  }
 ],
 "metadata": {
  "kernelspec": {
   "display_name": "base",
   "language": "python",
   "name": "python3"
  },
  "language_info": {
   "codemirror_mode": {
    "name": "ipython",
    "version": 3
   },
   "file_extension": ".py",
   "mimetype": "text/x-python",
   "name": "python",
   "nbconvert_exporter": "python",
   "pygments_lexer": "ipython3",
   "version": "3.11.7"
  }
 },
 "nbformat": 4,
 "nbformat_minor": 2
}
