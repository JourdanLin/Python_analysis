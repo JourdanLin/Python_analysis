{
 "cells": [
  {
   "cell_type": "code",
   "execution_count": 7,
   "metadata": {},
   "outputs": [
    {
     "name": "stdout",
     "output_type": "stream",
     "text": [
      "10\n"
     ]
    }
   ],
   "source": [
    "print(2*(1+2)**2-2**2*2)"
   ]
  },
  {
   "cell_type": "code",
   "execution_count": 5,
   "metadata": {},
   "outputs": [
    {
     "name": "stdout",
     "output_type": "stream",
     "text": [
      "20\n"
     ]
    }
   ],
   "source": [
    "print((2+3)*4)"
   ]
  },
  {
   "cell_type": "code",
   "execution_count": 6,
   "metadata": {},
   "outputs": [
    {
     "name": "stdout",
     "output_type": "stream",
     "text": [
      "17\n"
     ]
    }
   ],
   "source": [
    "n=1+5\n",
    "m = n +5\n",
    "print(n + m) "
   ]
  },
  {
   "cell_type": "code",
   "execution_count": 2,
   "metadata": {},
   "outputs": [
    {
     "name": "stdout",
     "output_type": "stream",
     "text": [
      "<class 'str'>\n"
     ]
    }
   ],
   "source": [
    "x=input(\"Press Enter to continue...\")\n",
    "print(type (x))\n",
    "result  = float(x) + 10"
   ]
  },
  {
   "cell_type": "markdown",
   "metadata": {},
   "source": []
  },
  {
   "cell_type": "code",
   "execution_count": 13,
   "metadata": {},
   "outputs": [
    {
     "name": "stdout",
     "output_type": "stream",
     "text": [
      "4-7-45.0-hello.\n"
     ]
    }
   ],
   "source": [
    "raduus = float(input('Enter the radius of the circle: '))\n",
    "print(4,7,raduus,'hello',sep='-',end='.\\n')"
   ]
  },
  {
   "cell_type": "code",
   "execution_count": null,
   "metadata": {},
   "outputs": [
    {
     "name": "stdout",
     "output_type": "stream",
     "text": [
      "3+5+8\n",
      "3+4+9\n",
      "\n",
      "9+9=18\n"
     ]
    }
   ],
   "source": [
    "print(\"3+5+8\")\n",
    "print(\"3+4+9\")\n",
    "print()\n",
    "print(\"9+9=18\")"
   ]
  },
  {
   "cell_type": "code",
   "execution_count": 18,
   "metadata": {},
   "outputs": [
    {
     "name": "stdout",
     "output_type": "stream",
     "text": [
      "The diameter is: 200.0\n",
      "The circumference is: 628.318\n",
      "The area is: 31415.926585\n",
      "The diameter is: 200.0 The circumference is: 628.318 The area is: 31415.926585\n"
     ]
    }
   ],
   "source": [
    "radius = float(input(\"Press Enter to continue...\"))\n",
    "dia = 2 * radius\n",
    "circumference = 2 * 3.14159 * radius\n",
    "area = 3.1415926585 * radius ** 2\n",
    "print(\"The diameter is:\",dia)\n",
    "print(\"The circumference is:\",circumference)\n",
    "print(\"The area is:\",area)\n",
    "print(\"The diameter is:\",dia,\"The circumference is:\",circumference,\"The area is:\",area)\n"
   ]
  },
  {
   "cell_type": "code",
   "execution_count": null,
   "metadata": {},
   "outputs": [],
   "source": [
    "print(\"3+5+8\")\n",
    "print(\"3+4+9\")\n",
    "print()\n",
    "print(\"9+9=18\")"
   ]
  },
  {
   "cell_type": "code",
   "execution_count": 19,
   "metadata": {},
   "outputs": [
    {
     "name": "stdout",
     "output_type": "stream",
     "text": [
      "對邊長: 3.0\n",
      "另一邊長: 4.0\n",
      "斜邊長: 5.0\n"
     ]
    }
   ],
   "source": [
    "import math\n",
    "side = float(input(\"Enter the side of the square: \"))\n",
    "another_side = float(input(\"Enter the other side of the square: \"))\n",
    "each_side = math.sqrt((side**2)+(another_side**2))\n",
    "print(\"對邊長:\",side)\n",
    "print(\"另一邊長:\",another_side)\n",
    "print(\"斜邊長:\",each_side)\n",
    "\n"
   ]
  }
 ],
 "metadata": {
  "kernelspec": {
   "display_name": "base",
   "language": "python",
   "name": "python3"
  },
  "language_info": {
   "codemirror_mode": {
    "name": "ipython",
    "version": 3
   },
   "file_extension": ".py",
   "mimetype": "text/x-python",
   "name": "python",
   "nbconvert_exporter": "python",
   "pygments_lexer": "ipython3",
   "version": "3.11.7"
  }
 },
 "nbformat": 4,
 "nbformat_minor": 2
}
