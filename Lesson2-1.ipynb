{
 "cells": [
  {
   "cell_type": "code",
   "execution_count": 22,
   "metadata": {},
   "outputs": [
    {
     "name": "stdout",
     "output_type": "stream",
     "text": [
      "10\n"
     ]
    }
   ],
   "source": [
    "print(2*(1+2)**2-2**2*2)"
   ]
  },
  {
   "cell_type": "code",
   "execution_count": 23,
   "metadata": {},
   "outputs": [
    {
     "name": "stdout",
     "output_type": "stream",
     "text": [
      "20\n"
     ]
    }
   ],
   "source": [
    "print((2+3)*4)"
   ]
  },
  {
   "cell_type": "code",
   "execution_count": 24,
   "metadata": {},
   "outputs": [
    {
     "name": "stdout",
     "output_type": "stream",
     "text": [
      "17\n"
     ]
    }
   ],
   "source": [
    "n=1+5\n",
    "m = n +5\n",
    "print(n + m) "
   ]
  },
  {
   "cell_type": "code",
   "execution_count": 25,
   "metadata": {},
   "outputs": [
    {
     "name": "stdout",
     "output_type": "stream",
     "text": [
      "<class 'str'>\n"
     ]
    }
   ],
   "source": [
    "x=input(\"Press Enter to continue...\")\n",
    "print(type (x))\n",
    "result  = float(x) + 10"
   ]
  },
  {
   "cell_type": "markdown",
   "metadata": {},
   "source": []
  },
  {
   "cell_type": "code",
   "execution_count": 26,
   "metadata": {},
   "outputs": [
    {
     "ename": "ValueError",
     "evalue": "could not convert string to float: ''",
     "output_type": "error",
     "traceback": [
      "\u001b[1;31m---------------------------------------------------------------------------\u001b[0m",
      "\u001b[1;31mValueError\u001b[0m                                Traceback (most recent call last)",
      "Cell \u001b[1;32mIn[26], line 1\u001b[0m\n\u001b[1;32m----> 1\u001b[0m raduus \u001b[38;5;241m=\u001b[39m \u001b[38;5;28mfloat\u001b[39m(\u001b[38;5;28minput\u001b[39m(\u001b[38;5;124m'\u001b[39m\u001b[38;5;124mEnter the radius of the circle: \u001b[39m\u001b[38;5;124m'\u001b[39m))\n\u001b[0;32m      2\u001b[0m \u001b[38;5;28mprint\u001b[39m(\u001b[38;5;241m4\u001b[39m,\u001b[38;5;241m7\u001b[39m,raduus,\u001b[38;5;124m'\u001b[39m\u001b[38;5;124mhello\u001b[39m\u001b[38;5;124m'\u001b[39m,sep\u001b[38;5;241m=\u001b[39m\u001b[38;5;124m'\u001b[39m\u001b[38;5;124m-\u001b[39m\u001b[38;5;124m'\u001b[39m,end\u001b[38;5;241m=\u001b[39m\u001b[38;5;124m'\u001b[39m\u001b[38;5;124m.\u001b[39m\u001b[38;5;130;01m\\n\u001b[39;00m\u001b[38;5;124m'\u001b[39m)\n",
      "\u001b[1;31mValueError\u001b[0m: could not convert string to float: ''"
     ]
    }
   ],
   "source": [
    "raduus = float(input('Enter the radius of the circle: '))\n",
    "print(4,7,raduus,'hello',sep='-',end='.\\n')"
   ]
  },
  {
   "cell_type": "code",
   "execution_count": null,
   "metadata": {},
   "outputs": [
    {
     "name": "stdout",
     "output_type": "stream",
     "text": [
      "3+5+8\n",
      "3+4+9\n",
      "\n",
      "9+9=18\n"
     ]
    }
   ],
   "source": [
    "print(\"3+5+8\")\n",
    "print(\"3+4+9\")\n",
    "print()\n",
    "print(\"9+9=18\")"
   ]
  },
  {
   "cell_type": "code",
   "execution_count": null,
   "metadata": {},
   "outputs": [
    {
     "name": "stdout",
     "output_type": "stream",
     "text": [
      "The diameter is: 200.0\n",
      "The circumference is: 628.318\n",
      "The area is: 31415.926585\n",
      "The diameter is: 200.0 The circumference is: 628.318 The area is: 31415.926585\n"
     ]
    }
   ],
   "source": [
    "radius = float(input(\"Press Enter to continue...\"))\n",
    "dia = 2 * radius\n",
    "circumference = 2 * 3.14159 * radius\n",
    "area = 3.1415926585 * radius ** 2\n",
    "print(\"The diameter is:\",dia)\n",
    "print(\"The circumference is:\",circumference)\n",
    "print(\"The area is:\",area)\n",
    "print(\"The diameter is:\",dia,\"The circumference is:\",circumference,\"The area is:\",area)\n"
   ]
  },
  {
   "cell_type": "code",
   "execution_count": null,
   "metadata": {},
   "outputs": [],
   "source": [
    "print(\"3+5+8\")\n",
    "print(\"3+4+9\")\n",
    "print()\n",
    "print(\"9+9=18\")"
   ]
  },
  {
   "cell_type": "code",
   "execution_count": 19,
   "metadata": {},
   "outputs": [
    {
     "name": "stdout",
     "output_type": "stream",
     "text": [
      "對邊長: 3.0\n",
      "另一邊長: 4.0\n",
      "斜邊長: 5.0\n"
     ]
    }
   ],
   "source": [
    "import math\n",
    "side = float(input(\"Enter the side of the square: \"))\n",
    "another_side = float(input(\"Enter the other side of the square: \"))\n",
    "each_side = math.sqrt((side**2)+(another_side**2))\n",
    "print(\"對邊長:\",side)\n",
    "print(\"另一邊長:\",another_side)\n",
    "print(\"斜邊長:\",each_side)\n",
    "\n"
   ]
  },
  {
   "cell_type": "code",
   "execution_count": 27,
   "metadata": {},
   "outputs": [
    {
     "name": "stdout",
     "output_type": "stream",
     "text": [
      "data are :  [10 20 30 40 50]\n",
      "數據的標準差是: 14.142135623730951\n",
      "樣本標準差是: 15.811388300841896\n"
     ]
    }
   ],
   "source": [
    "import numpy as np\n",
    "\n",
    "# 創建一個數字陣列\n",
    "data = np.array([10, 20, 30, 40, 50])\n",
    "\n",
    "# 計算標準差\n",
    "std_deviation = np.std(data)\n",
    "sample_std_deviation = np.std(data, ddof=1)\n",
    "\n",
    "print(\"data are : \", data)\n",
    "print(f\"數據的標準差是: {std_deviation}\")\n",
    "print(f\"樣本標準差是: {sample_std_deviation}\")\n"
   ]
  },
  {
   "cell_type": "code",
   "execution_count": 34,
   "metadata": {},
   "outputs": [
    {
     "name": "stdout",
     "output_type": "stream",
     "text": [
      "<class 'list'>\n",
      "[2, 8, 9]\n",
      "<class 'tuple'>\n",
      "(2, 8, 9)\n"
     ]
    }
   ],
   "source": [
    "LUCKY_NUMBER = [2,8,9]\n",
    "print(type(LUCKY_NUMBER))\n",
    "print(LUCKY_NUMBER)\n",
    "sum(LUCKY_NUMBER)\n",
    "LUCKY_NUMBER1 = (2,8,9)\n",
    "print(type(LUCKY_NUMBER1))\n",
    "print(LUCKY_NUMBER1) #tuple 不可變更 讀寫速度快 但是不能增加刪除修改\n",
    "\n"
   ]
  }
 ],
 "metadata": {
  "kernelspec": {
   "display_name": "base",
   "language": "python",
   "name": "python3"
  },
  "language_info": {
   "codemirror_mode": {
    "name": "ipython",
    "version": 3
   },
   "file_extension": ".py",
   "mimetype": "text/x-python",
   "name": "python",
   "nbconvert_exporter": "python",
   "pygments_lexer": "ipython3",
   "version": "3.11.7"
  }
 },
 "nbformat": 4,
 "nbformat_minor": 2
}
