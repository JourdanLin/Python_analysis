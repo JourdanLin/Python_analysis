{
 "cells": [
  {
   "cell_type": "code",
   "execution_count": 3,
   "metadata": {},
   "outputs": [
    {
     "name": "stdout",
     "output_type": "stream",
     "text": [
      "比較完成，結果已輸出至: f:\\diff_report.html\n"
     ]
    }
   ],
   "source": [
    "import difflib\n",
    "\n",
    "def compare_htm(file1_path, file2_path, output_path):\n",
    "    try:\n",
    "        # 讀取檔案內容並分割為行列表\n",
    "        with open(file1_path, 'r', encoding='utf-16') as f:\n",
    "            file1_lines = f.readlines()\n",
    "        \n",
    "        with open(file2_path, 'r', encoding='utf-16') as f:\n",
    "            file2_lines = f.readlines()\n",
    "\n",
    "        # 建立HTML差異比較器\n",
    "        differ = difflib.HtmlDiff(wrapcolumn=80)\n",
    "        \n",
    "        # 生成差異報告\n",
    "        diff_content = differ.make_file(\n",
    "            fromlines=file1_lines,\n",
    "            tolines=file2_lines,\n",
    "            fromdesc='原始檔案',\n",
    "            todesc='新版檔案',\n",
    "            context=True,\n",
    "            numlines=3\n",
    "        )\n",
    "\n",
    "        # 寫入輸出檔案\n",
    "        with open(output_path, 'w', encoding='utf-16') as f:\n",
    "            f.write(diff_content)\n",
    "            \n",
    "        print(f'比較完成，結果已輸出至: {output_path}')\n",
    "\n",
    "    except FileNotFoundError as e:\n",
    "        print(f'檔案找不到錯誤: {str(e)}')\n",
    "    except Exception as e:\n",
    "        print(f'發生錯誤: {str(e)}')\n",
    "\n",
    "# 使用範例\n",
    "compare_htm('f:\\\\mc.htm', 'f:\\\\mc2.htm', 'f:\\\\diff_report.html')\n"
   ]
  }
 ],
 "metadata": {
  "kernelspec": {
   "display_name": "base",
   "language": "python",
   "name": "python3"
  },
  "language_info": {
   "codemirror_mode": {
    "name": "ipython",
    "version": 3
   },
   "file_extension": ".py",
   "mimetype": "text/x-python",
   "name": "python",
   "nbconvert_exporter": "python",
   "pygments_lexer": "ipython3",
   "version": "3.11.7"
  }
 },
 "nbformat": 4,
 "nbformat_minor": 2
}
